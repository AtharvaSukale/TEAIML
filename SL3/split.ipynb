{
  "cells": [
    {
      "cell_type": "code",
      "execution_count": 1,
      "metadata": {
        "id": "1xgIwbOeXzWN"
      },
      "outputs": [],
      "source": [
        "import pandas as pd\n",
        "from sklearn.datasets import load_iris\n",
        "iris_data = load_iris()\n",
        "\n"
      ]
    },
    {
      "cell_type": "code",
      "execution_count": 2,
      "metadata": {
        "colab": {
          "base_uri": "https://localhost:8080/"
        },
        "id": "HJ1YMVKCXzWP",
        "outputId": "26a614b1-372c-4eb9-fd31-9e10531febaf"
      },
      "outputs": [
        {
          "output_type": "stream",
          "name": "stdout",
          "text": [
            "     sepal length (cm)  sepal width (cm)  petal length (cm)  petal width (cm)\n",
            "0                  5.1               3.5                1.4               0.2\n",
            "1                  4.9               3.0                1.4               0.2\n",
            "2                  4.7               3.2                1.3               0.2\n",
            "3                  4.6               3.1                1.5               0.2\n",
            "4                  5.0               3.6                1.4               0.2\n",
            "..                 ...               ...                ...               ...\n",
            "145                6.7               3.0                5.2               2.3\n",
            "146                6.3               2.5                5.0               1.9\n",
            "147                6.5               3.0                5.2               2.0\n",
            "148                6.2               3.4                5.4               2.3\n",
            "149                5.9               3.0                5.1               1.8\n",
            "\n",
            "[150 rows x 4 columns]\n"
          ]
        }
      ],
      "source": [
        "df = pd.DataFrame(iris_data.data, columns=iris_data.feature_names)\n",
        "print(df)\n"
      ]
    },
    {
      "cell_type": "code",
      "execution_count": 3,
      "metadata": {
        "id": "E-qMH0jdXzWQ"
      },
      "outputs": [],
      "source": [
        "training_data = df.sample(frac=0.4)\n",
        "testing_data = df.drop(training_data.index)\n"
      ]
    },
    {
      "cell_type": "code",
      "execution_count": 4,
      "metadata": {
        "colab": {
          "base_uri": "https://localhost:8080/"
        },
        "id": "n6zDETnDXzWQ",
        "outputId": "60482a08-1441-4252-f6f2-26d3e3f6eece"
      },
      "outputs": [
        {
          "output_type": "stream",
          "name": "stdout",
          "text": [
            "No. of training examples: 60\n",
            "No. of testing examples: 90\n"
          ]
        }
      ],
      "source": [
        "print(f\"No. of training examples: {training_data.shape[0]}\")\n",
        "print(f\"No. of testing examples: {testing_data.shape[0]}\")\n"
      ]
    },
    {
      "cell_type": "code",
      "execution_count": null,
      "metadata": {
        "id": "K_q_D82mXzWR",
        "outputId": "82895858-5f19-4af2-eeff-713963c45839"
      },
      "outputs": [
        {
          "name": "stdout",
          "output_type": "stream",
          "text": [
            "\n",
            " Training data is below\n",
            "     sepal length (cm)  sepal width (cm)  petal length (cm)  petal width (cm)\n",
            "4                  5.0               3.6                1.4               0.2\n",
            "86                 6.7               3.1                4.7               1.5\n",
            "71                 6.1               2.8                4.0               1.3\n",
            "35                 5.0               3.2                1.2               0.2\n",
            "141                6.9               3.1                5.1               2.3\n"
          ]
        }
      ],
      "source": [
        "print(\"\\n Training data is below\")\n",
        "print(training_data[:5])\n"
      ]
    },
    {
      "cell_type": "code",
      "execution_count": null,
      "metadata": {
        "id": "ZH-1CFZyXzWR",
        "outputId": "ad666d88-d3d2-41d7-c58a-e37a319ab549"
      },
      "outputs": [
        {
          "name": "stdout",
          "output_type": "stream",
          "text": [
            "Testing data \n",
            "     sepal length (cm)  sepal width (cm)  petal length (cm)  petal width (cm)\n",
            "6                 4.6               3.4                1.4               0.3\n",
            "10                5.4               3.7                1.5               0.2\n",
            "11                4.8               3.4                1.6               0.2\n",
            "20                5.4               3.4                1.7               0.2\n",
            "25                5.0               3.0                1.6               0.2\n"
          ]
        }
      ],
      "source": [
        "#print(\"testing data\",\"\\n\",testing_data)\n",
        "print(\"Testing data\",'\\n',testing_data[ :5])"
      ]
    },
    {
      "cell_type": "code",
      "execution_count": null,
      "metadata": {
        "id": "de2sJ6YxXzWR"
      },
      "outputs": [],
      "source": []
    }
  ],
  "metadata": {
    "kernelspec": {
      "display_name": "Python 3 (ipykernel)",
      "language": "python",
      "name": "python3"
    },
    "language_info": {
      "codemirror_mode": {
        "name": "ipython",
        "version": 3
      },
      "file_extension": ".py",
      "mimetype": "text/x-python",
      "name": "python",
      "nbconvert_exporter": "python",
      "pygments_lexer": "ipython3",
      "version": "3.10.2"
    },
    "colab": {
      "provenance": []
    }
  },
  "nbformat": 4,
  "nbformat_minor": 0
}