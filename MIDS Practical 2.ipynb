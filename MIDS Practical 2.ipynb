{
 "cells": [
  {
   "cell_type": "code",
   "execution_count": 1,
   "id": "7aa2d801",
   "metadata": {
    "scrolled": true
   },
   "outputs": [],
   "source": [
    "import numpy as np\n",
    "import pandas as pd\n",
    "from sklearn.feature_extraction.text import CountVectorizer\n",
    "from sklearn.linear_model import LogisticRegression"
   ]
  },
  {
   "cell_type": "code",
   "execution_count": 10,
   "id": "fe814077",
   "metadata": {},
   "outputs": [],
   "source": [
    "# Polarity words\n",
    "positive_words=['good', 'great','excellent','awesome']\n",
    "negative_words=['bad','terrible','awful','poor']"
   ]
  },
  {
   "cell_type": "code",
   "execution_count": 11,
   "id": "c070e649",
   "metadata": {},
   "outputs": [],
   "source": [
    "#Example\n",
    "docs = [\"This movie was great! The acting was amazing, and the plot kept me on the edge of my seat.\",\n",
    "        \"The food at this restaurant was terrible. I would never come back again.\",\n",
    "        \"I had an awesome time on my vacation. The weather was perfect and the scenery was breathtaking.\",\n",
    "        \"The service at this hotel was terrible. The staff was rude and unhelpful.\",\n",
    "        \"I just finished reading a great book. The characters were well-developed and the plot was engaging.\"]"
   ]
  },
  {
   "cell_type": "code",
   "execution_count": 12,
   "id": "6ac7f8a8",
   "metadata": {},
   "outputs": [],
   "source": [
    "# Assign labels to documents\n",
    "labels=np.array([1,0,1,0,1])"
   ]
  },
  {
   "cell_type": "code",
   "execution_count": 14,
   "id": "399db5e0",
   "metadata": {},
   "outputs": [],
   "source": [
    "# Create a CountVectorizer to transform the documents into a matrix of word counts\n",
    "vectorizer=CountVectorizer(vocabulary=positive_words+negative_words)\n",
    "x=vectorizer.fit_transform(docs).toarray()"
   ]
  },
  {
   "cell_type": "code",
   "execution_count": 16,
   "id": "8294af5c",
   "metadata": {},
   "outputs": [
    {
     "data": {
      "text/plain": [
       "LogisticRegression(random_state=0)"
      ]
     },
     "execution_count": 16,
     "metadata": {},
     "output_type": "execute_result"
    }
   ],
   "source": [
    "# Train a logistic regression model on the data\n",
    "lr=LogisticRegression(random_state=0)\n",
    "lr.fit(x,labels)"
   ]
  },
  {
   "cell_type": "code",
   "execution_count": 25,
   "id": "1c427555",
   "metadata": {},
   "outputs": [],
   "source": [
    "test_doc = \"The weather on my vacation was terrible, and the hotel was bad.\""
   ]
  },
  {
   "cell_type": "code",
   "execution_count": 26,
   "id": "4b5c7403",
   "metadata": {},
   "outputs": [],
   "source": [
    "# Transform the test document and predict its label\n",
    "test_doc_vector = vectorizer.transform([test_doc]).toarray()\n",
    "test_label = lr.predict(test_doc_vector)"
   ]
  },
  {
   "cell_type": "code",
   "execution_count": 27,
   "id": "3438d8ab",
   "metadata": {},
   "outputs": [
    {
     "name": "stdout",
     "output_type": "stream",
     "text": [
      "The document is negative.\n"
     ]
    }
   ],
   "source": [
    "# Print the predicted label\n",
    "if test_label == 1:\n",
    "    print(\"The document is positive.\")\n",
    "else:\n",
    "    print(\"The document is negative.\")"
   ]
  },
  {
   "cell_type": "code",
   "execution_count": null,
   "id": "0df5facd",
   "metadata": {},
   "outputs": [],
   "source": []
  }
 ],
 "metadata": {
  "kernelspec": {
   "display_name": "Python 3 (ipykernel)",
   "language": "python",
   "name": "python3"
  },
  "language_info": {
   "codemirror_mode": {
    "name": "ipython",
    "version": 3
   },
   "file_extension": ".py",
   "mimetype": "text/x-python",
   "name": "python",
   "nbconvert_exporter": "python",
   "pygments_lexer": "ipython3",
   "version": "3.9.13"
  }
 },
 "nbformat": 4,
 "nbformat_minor": 5
}
